{
 "cells": [
  {
   "cell_type": "markdown",
   "metadata": {},
   "source": [
    "# Data-driven approach to identifying changes occurring in primary care activity during the pandemic\n",
    "\n",
    "## Generating data for decile charts to show activity across all practices in TPP\n",
    "\n",
    "See `decile_charts_[concept]` for charts"
   ]
  },
  {
   "cell_type": "code",
   "execution_count": 1,
   "metadata": {},
   "outputs": [],
   "source": [
    "import pyodbc\n",
    "import pandas as pd\n",
    "import os\n",
    "from IPython.display import display, Markdown\n",
    "\n",
    "dbconn = os.environ.get('DBCONN', None)\n",
    "if dbconn is None:\n",
    "    display(\"No SQL credentials. Check that the file 'environ.txt' is present. Refer to readme for further information\")\n",
    "else:\n",
    "    dbconn = dbconn.strip('\"')\n",
    "\n",
    "# import custom functions from 'lib` folder\n",
    "import sys\n",
    "sys.path.append('../lib/')\n",
    "    \n",
    "from functions import closing_connection, load_concept, process_df, join_concept_descriptions, get_subcodes"
   ]
  },
  {
   "cell_type": "code",
   "execution_count": 2,
   "metadata": {
    "lines_to_next_cell": 2
   },
   "outputs": [],
   "source": [
    "# global variables \n",
    "if 'OPENCoronaExport' in dbconn:\n",
    "    threshold = 1 # min activity threshold\n",
    "else:\n",
    "    threshold = 1000\n",
    "\n",
    "end_date = \"20200930\""
   ]
  },
  {
   "cell_type": "markdown",
   "metadata": {},
   "source": [
    "# Lookup/Reference tables"
   ]
  },
  {
   "cell_type": "markdown",
   "metadata": {},
   "source": [
    "## Create table of CTV3 codes"
   ]
  },
  {
   "cell_type": "code",
   "execution_count": 3,
   "metadata": {},
   "outputs": [
    {
     "data": {
      "text/html": [
       "<div>\n",
       "<style scoped>\n",
       "    .dataframe tbody tr th:only-of-type {\n",
       "        vertical-align: middle;\n",
       "    }\n",
       "\n",
       "    .dataframe tbody tr th {\n",
       "        vertical-align: top;\n",
       "    }\n",
       "\n",
       "    .dataframe thead th {\n",
       "        text-align: right;\n",
       "    }\n",
       "</style>\n",
       "<table border=\"1\" class=\"dataframe\">\n",
       "  <thead>\n",
       "    <tr style=\"text-align: right;\">\n",
       "      <th></th>\n",
       "      <th>first_digits</th>\n",
       "      <th>Description</th>\n",
       "      <th>concept_digit</th>\n",
       "      <th>concept_desc</th>\n",
       "    </tr>\n",
       "  </thead>\n",
       "  <tbody>\n",
       "    <tr>\n",
       "      <th>0</th>\n",
       "      <td>1</td>\n",
       "      <td>History/symptoms</td>\n",
       "      <td>1</td>\n",
       "      <td>History/symptoms</td>\n",
       "    </tr>\n",
       "    <tr>\n",
       "      <th>1</th>\n",
       "      <td>11</td>\n",
       "      <td>Depth of history</td>\n",
       "      <td>11</td>\n",
       "      <td>Depth of history</td>\n",
       "    </tr>\n",
       "  </tbody>\n",
       "</table>\n",
       "</div>"
      ],
      "text/plain": [
       "  first_digits       Description concept_digit      concept_desc\n",
       "0            1  History/symptoms             1  History/symptoms\n",
       "1           11  Depth of history            11  Depth of history"
      ]
     },
     "execution_count": 3,
     "metadata": {},
     "output_type": "execute_result"
    }
   ],
   "source": [
    "sql = f'''select \n",
    "CASE WHEN CHARINDEX('.',CTV3Code) > 0\n",
    "THEN LEFT(CTV3Code,CHARINDEX('.',CTV3Code)-1) \n",
    "ELSE CTV3Code END AS first_digits, \n",
    "Description\n",
    "from CTV3Dictionary \n",
    "WHERE LEFT(CTV3Code,1) NOT IN ('.', '0') -- Read thesaurus, occupations\n",
    "'''\n",
    "\n",
    "pd.set_option('display.max_rows', 200)\n",
    "with closing_connection(dbconn) as connection:\n",
    "    codes = pd.read_sql(sql, connection).sort_values(by=[\"first_digits\"])\n",
    "\n",
    "codes.to_csv(os.path.join('..','data','code_dictionary.csv'))    \n",
    "\n",
    "# add fields for later use\n",
    "codes['concept_digit'] = codes.first_digits\n",
    "codes['concept_desc'] = codes.Description\n",
    "\n",
    "codes.head(2)\n"
   ]
  },
  {
   "cell_type": "markdown",
   "metadata": {},
   "source": [
    "## Load Concept map"
   ]
  },
  {
   "cell_type": "code",
   "execution_count": 4,
   "metadata": {},
   "outputs": [
    {
     "data": {
      "text/markdown": [
       "## First level concepts"
      ],
      "text/plain": [
       "<IPython.core.display.Markdown object>"
      ]
     },
     "metadata": {},
     "output_type": "display_data"
    },
    {
     "data": {
      "text/html": [
       "<div>\n",
       "<style scoped>\n",
       "    .dataframe tbody tr th:only-of-type {\n",
       "        vertical-align: middle;\n",
       "    }\n",
       "\n",
       "    .dataframe tbody tr th {\n",
       "        vertical-align: top;\n",
       "    }\n",
       "\n",
       "    .dataframe thead th {\n",
       "        text-align: right;\n",
       "    }\n",
       "</style>\n",
       "<table border=\"1\" class=\"dataframe\">\n",
       "  <thead>\n",
       "    <tr style=\"text-align: right;\">\n",
       "      <th></th>\n",
       "      <th>ancestor</th>\n",
       "      <th>descendant</th>\n",
       "      <th>concept_digit</th>\n",
       "      <th>descendant_clean</th>\n",
       "      <th>concept_desc</th>\n",
       "    </tr>\n",
       "  </thead>\n",
       "  <tbody>\n",
       "    <tr>\n",
       "      <th>29283</th>\n",
       "      <td>X74VQ</td>\n",
       "      <td>2469.</td>\n",
       "      <td>X74VQ</td>\n",
       "      <td>2469</td>\n",
       "      <td>Context-dependent categories</td>\n",
       "    </tr>\n",
       "  </tbody>\n",
       "</table>\n",
       "</div>"
      ],
      "text/plain": [
       "      ancestor descendant concept_digit descendant_clean  \\\n",
       "29283    X74VQ      2469.         X74VQ             2469   \n",
       "\n",
       "                       concept_desc  \n",
       "29283  Context-dependent categories  "
      ]
     },
     "metadata": {},
     "output_type": "display_data"
    },
    {
     "data": {
      "text/markdown": [
       "## Second level concepts"
      ],
      "text/plain": [
       "<IPython.core.display.Markdown object>"
      ]
     },
     "metadata": {},
     "output_type": "display_data"
    },
    {
     "data": {
      "text/html": [
       "<div>\n",
       "<style scoped>\n",
       "    .dataframe tbody tr th:only-of-type {\n",
       "        vertical-align: middle;\n",
       "    }\n",
       "\n",
       "    .dataframe tbody tr th {\n",
       "        vertical-align: top;\n",
       "    }\n",
       "\n",
       "    .dataframe thead th {\n",
       "        text-align: right;\n",
       "    }\n",
       "</style>\n",
       "<table border=\"1\" class=\"dataframe\">\n",
       "  <thead>\n",
       "    <tr style=\"text-align: right;\">\n",
       "      <th></th>\n",
       "      <th>concept_digit</th>\n",
       "      <th>concept_desc</th>\n",
       "    </tr>\n",
       "  </thead>\n",
       "  <tbody>\n",
       "    <tr>\n",
       "      <th>0</th>\n",
       "      <td>02...</td>\n",
       "      <td>NaN</td>\n",
       "    </tr>\n",
       "    <tr>\n",
       "      <th>173</th>\n",
       "      <td>04...</td>\n",
       "      <td>NaN</td>\n",
       "    </tr>\n",
       "  </tbody>\n",
       "</table>\n",
       "</div>"
      ],
      "text/plain": [
       "    concept_digit concept_desc\n",
       "0           02...          NaN\n",
       "173         04...          NaN"
      ]
     },
     "metadata": {},
     "output_type": "display_data"
    },
    {
     "data": {
      "text/markdown": [
       "## Third level concepts"
      ],
      "text/plain": [
       "<IPython.core.display.Markdown object>"
      ]
     },
     "metadata": {},
     "output_type": "display_data"
    },
    {
     "data": {
      "text/html": [
       "<div>\n",
       "<style scoped>\n",
       "    .dataframe tbody tr th:only-of-type {\n",
       "        vertical-align: middle;\n",
       "    }\n",
       "\n",
       "    .dataframe tbody tr th {\n",
       "        vertical-align: top;\n",
       "    }\n",
       "\n",
       "    .dataframe thead th {\n",
       "        text-align: right;\n",
       "    }\n",
       "</style>\n",
       "<table border=\"1\" class=\"dataframe\">\n",
       "  <thead>\n",
       "    <tr style=\"text-align: right;\">\n",
       "      <th></th>\n",
       "      <th>concept_digit</th>\n",
       "      <th>concept_desc</th>\n",
       "    </tr>\n",
       "  </thead>\n",
       "  <tbody>\n",
       "    <tr>\n",
       "      <th>0</th>\n",
       "      <td>0242.</td>\n",
       "      <td>NaN</td>\n",
       "    </tr>\n",
       "    <tr>\n",
       "      <th>4</th>\n",
       "      <td>02A..</td>\n",
       "      <td>NaN</td>\n",
       "    </tr>\n",
       "  </tbody>\n",
       "</table>\n",
       "</div>"
      ],
      "text/plain": [
       "  concept_digit concept_desc\n",
       "0         0242.          NaN\n",
       "4         02A..          NaN"
      ]
     },
     "metadata": {},
     "output_type": "display_data"
    }
   ],
   "source": [
    "display(Markdown(\"## First level concepts\"))\n",
    "concepts = load_concept(\"ctv3-buckets-1.json\", codes)\n",
    "display(concepts.loc[concepts[\"descendant_clean\"]==\"2469\"])\n",
    "\n",
    "display(Markdown(\"## Second level concepts\"))\n",
    "concepts2 = load_concept(\"ctv3-buckets-2.json\", codes)\n",
    "display(concepts2[[\"concept_digit\", \"concept_desc\"]].drop_duplicates().head(2))\n",
    "\n",
    "display(Markdown(\"## Third level concepts\"))\n",
    "concepts3 = load_concept(\"ctv3-buckets-3.json\", codes)\n",
    "display(concepts3[[\"concept_digit\", \"concept_desc\"]].drop_duplicates().head(2))"
   ]
  },
  {
   "cell_type": "code",
   "execution_count": 5,
   "metadata": {},
   "outputs": [
    {
     "data": {
      "text/html": [
       "<div>\n",
       "<style scoped>\n",
       "    .dataframe tbody tr th:only-of-type {\n",
       "        vertical-align: middle;\n",
       "    }\n",
       "\n",
       "    .dataframe tbody tr th {\n",
       "        vertical-align: top;\n",
       "    }\n",
       "\n",
       "    .dataframe thead th {\n",
       "        text-align: right;\n",
       "    }\n",
       "</style>\n",
       "<table border=\"1\" class=\"dataframe\">\n",
       "  <thead>\n",
       "    <tr style=\"text-align: right;\">\n",
       "      <th></th>\n",
       "      <th>ancestor</th>\n",
       "      <th>descendant</th>\n",
       "      <th>concept_digit</th>\n",
       "      <th>descendant_clean</th>\n",
       "      <th>concept_desc</th>\n",
       "    </tr>\n",
       "  </thead>\n",
       "  <tbody>\n",
       "    <tr>\n",
       "      <th>252742</th>\n",
       "      <td>X7A0B</td>\n",
       "      <td>X77Wg</td>\n",
       "      <td>X7A0B</td>\n",
       "      <td>X77Wg</td>\n",
       "      <td>Laboratory test</td>\n",
       "    </tr>\n",
       "    <tr>\n",
       "      <th>398777</th>\n",
       "      <td>X76sW</td>\n",
       "      <td>42I..</td>\n",
       "      <td>X76sW</td>\n",
       "      <td>42I</td>\n",
       "      <td>Laboratory test observations</td>\n",
       "    </tr>\n",
       "  </tbody>\n",
       "</table>\n",
       "</div>"
      ],
      "text/plain": [
       "       ancestor descendant concept_digit descendant_clean  \\\n",
       "252742    X7A0B      X77Wg         X7A0B            X77Wg   \n",
       "398777    X76sW      42I..         X76sW              42I   \n",
       "\n",
       "                        concept_desc  \n",
       "252742               Laboratory test  \n",
       "398777  Laboratory test observations  "
      ]
     },
     "execution_count": 5,
     "metadata": {},
     "output_type": "execute_result"
    }
   ],
   "source": [
    "# find concept level 3 ancestors for laboratory tests/findings\n",
    "concepts3.loc[concepts3[\"descendant\"].isin([\"42I..\", # Differential white blood cell count\n",
    "                                            \"X77Wg\" # thyroid function test\n",
    "                                            ])]"
   ]
  },
  {
   "cell_type": "markdown",
   "metadata": {},
   "source": [
    "# Population included"
   ]
  },
  {
   "cell_type": "code",
   "execution_count": 7,
   "metadata": {},
   "outputs": [
    {
     "data": {
      "text/plain": [
       "'Practice count 2546, Patient count 23878341'"
      ]
     },
     "metadata": {},
     "output_type": "display_data"
    }
   ],
   "source": [
    "sql = f'''-- total patient and practice count\n",
    "SELECT\n",
    "COUNT(DISTINCT Organisation_ID) AS practice_count,\n",
    "COUNT(DISTINCT Patient_ID) AS patient_count\n",
    "FROM RegistrationHistory\n",
    "WHERE StartDate <= '{end_date}' AND\n",
    "EndDate >= '{end_date}' -- registrations which were live at the end of the study period\n",
    "'''\n",
    "\n",
    "with closing_connection(dbconn) as connection:\n",
    "    df = pd.read_sql(sql, connection).transpose()\n",
    "    \n",
    "display(f\"Practice count {df[0][0]}, Patient count {df[0][1]}\")"
   ]
  },
  {
   "cell_type": "markdown",
   "metadata": {},
   "source": [
    "# Data Analysis"
   ]
  },
  {
   "cell_type": "markdown",
   "metadata": {},
   "source": [
    "## Rank all \"level 2\" codes by frequency of appearance in 2020"
   ]
  },
  {
   "cell_type": "code",
   "execution_count": 9,
   "metadata": {
    "lines_to_next_cell": 2
   },
   "outputs": [],
   "source": [
    "# select events for selcted subset of codelist\n",
    "sql = f'''select TOP 500 LEFT(CTV3Code,2) AS first_digits, COUNT(Patient_ID) as events, COUNT(DISTINCT Patient_ID) as patients, MAX(CAST(ConsultationDate AS DATE)) AS latest_date\n",
    "FROM CodedEvent \n",
    "WHERE \n",
    "ConsultationDate IS NOT NULL \n",
    "AND CAST(LEFT(CTV3Code,1) AS VARCHAR) NOT IN ('.', '0', 'X', 'Y', 'U')\n",
    "AND CAST(LEFT(CTV3Code,2) AS VARCHAR) NOT IN ('49') -- remove semen analysis\n",
    "AND ConsultationDate >= '20200101'\n",
    "AND ConsultationDate <= '{end_date}'\n",
    "GROUP BY LEFT(CTV3Code,2)\n",
    "HAVING COUNT(Patient_ID) > {threshold}\n",
    "ORDER BY first_digits\n",
    "'''\n",
    "\n",
    "with closing_connection(dbconn) as connection:\n",
    "    df_l2 = pd.read_sql(sql, connection).sort_values(by=\"events\", ascending=False)\n",
    "    "
   ]
  },
  {
   "cell_type": "markdown",
   "metadata": {},
   "source": [
    "### Add extra columns and descriptions"
   ]
  },
  {
   "cell_type": "code",
   "execution_count": 21,
   "metadata": {},
   "outputs": [
    {
     "data": {
      "text/html": [
       "<div>\n",
       "<style scoped>\n",
       "    .dataframe tbody tr th:only-of-type {\n",
       "        vertical-align: middle;\n",
       "    }\n",
       "\n",
       "    .dataframe tbody tr th {\n",
       "        vertical-align: top;\n",
       "    }\n",
       "\n",
       "    .dataframe thead th {\n",
       "        text-align: right;\n",
       "    }\n",
       "</style>\n",
       "<table border=\"1\" class=\"dataframe\">\n",
       "  <thead>\n",
       "    <tr style=\"text-align: right;\">\n",
       "      <th></th>\n",
       "      <th>first_digits</th>\n",
       "      <th>patients</th>\n",
       "      <th>latest_date</th>\n",
       "      <th>2020 events (mill)</th>\n",
       "      <th>2020 Patient count (mill)</th>\n",
       "      <th>first_digit</th>\n",
       "      <th>digits</th>\n",
       "      <th>Description</th>\n",
       "      <th>concept_desc</th>\n",
       "    </tr>\n",
       "  </thead>\n",
       "  <tbody>\n",
       "    <tr>\n",
       "      <th>0</th>\n",
       "      <td>42</td>\n",
       "      <td>4421920</td>\n",
       "      <td>2020-09-30</td>\n",
       "      <td>65.66</td>\n",
       "      <td>4.42</td>\n",
       "      <td>4</td>\n",
       "      <td>2</td>\n",
       "      <td>Haematology</td>\n",
       "      <td>Laboratory procedures</td>\n",
       "    </tr>\n",
       "    <tr>\n",
       "      <th>1</th>\n",
       "      <td>24</td>\n",
       "      <td>5328110</td>\n",
       "      <td>2020-09-30</td>\n",
       "      <td>20.22</td>\n",
       "      <td>5.33</td>\n",
       "      <td>2</td>\n",
       "      <td>2</td>\n",
       "      <td>Examination of cardiovascular system (&amp; [vascu...</td>\n",
       "      <td>Operations, procedures and interventions</td>\n",
       "    </tr>\n",
       "  </tbody>\n",
       "</table>\n",
       "</div>"
      ],
      "text/plain": [
       "  first_digits  patients latest_date  2020 events (mill)  \\\n",
       "0           42   4421920  2020-09-30               65.66   \n",
       "1           24   5328110  2020-09-30               20.22   \n",
       "\n",
       "   2020 Patient count (mill) first_digit  digits  \\\n",
       "0                       4.42           4       2   \n",
       "1                       5.33           2       2   \n",
       "\n",
       "                                         Description  \\\n",
       "0                                        Haematology   \n",
       "1  Examination of cardiovascular system (& [vascu...   \n",
       "\n",
       "                               concept_desc  \n",
       "0                     Laboratory procedures  \n",
       "1  Operations, procedures and interventions  "
      ]
     },
     "execution_count": 21,
     "metadata": {},
     "output_type": "execute_result"
    }
   ],
   "source": [
    "top_l2 = process_df(df_l2, codes)\n",
    "top_l2 = join_concept_descriptions(top_l2, concepts, concepts2, concepts3)\n",
    "\n",
    "out = top_l2.drop(\"events\", 1)\n",
    "out[\"patients\"] = (10*(out[\"patients\"]/10).round(0)).astype(int)\n",
    "out.to_csv(os.path.join(\"..\",\"output\",\"level_two_codes.csv\"), index=False)\n",
    "out.head(2)"
   ]
  },
  {
   "cell_type": "markdown",
   "metadata": {},
   "source": [
    "## Rank level 3 codes by frequency of appearance in 2020\n",
    "These codes may be more useful than full-length codes because they contain all the various options for a particular activity (e.g. \"birth details\" includes \"normal birth\", \"other delivery routes\" etc. This therefore captures general trends in activity types rather than the detailed specifics. However, the codes beginning with X, Y, U do not have descriptions when truncated to level 3 so will be done in full sepatately. "
   ]
  },
  {
   "cell_type": "code",
   "execution_count": 11,
   "metadata": {},
   "outputs": [],
   "source": [
    "sql = f'''select TOP 500\n",
    "LEFT(CTV3Code,3) AS first_digits, COUNT(Patient_ID) as events, COUNT(DISTINCT Patient_ID) as patients\n",
    "FROM CodedEvent \n",
    "WHERE \n",
    "ConsultationDate IS NOT NULL \n",
    "AND CAST(LEFT(CTV3Code,1) AS VARCHAR) NOT IN ('.', '0', 'U', 'X','Y')\n",
    "AND CAST(LEFT(CTV3Code,2) AS VARCHAR) NOT IN ('49') -- remove semen analysis\n",
    "AND ConsultationDate >= '20200101'\n",
    "AND ConsultationDate <= '{end_date}'\n",
    "GROUP BY LEFT(CTV3Code,3)\n",
    "HAVING COUNT(Patient_ID) > {threshold}\n",
    "ORDER BY events DESC\n",
    "'''\n",
    "\n",
    "with closing_connection(dbconn) as connection:\n",
    "    df_l3 = pd.read_sql(sql, connection).sort_values(by=\"events\", ascending=False)"
   ]
  },
  {
   "cell_type": "code",
   "execution_count": 12,
   "metadata": {},
   "outputs": [
    {
     "data": {
      "text/html": [
       "<div>\n",
       "<style scoped>\n",
       "    .dataframe tbody tr th:only-of-type {\n",
       "        vertical-align: middle;\n",
       "    }\n",
       "\n",
       "    .dataframe tbody tr th {\n",
       "        vertical-align: top;\n",
       "    }\n",
       "\n",
       "    .dataframe thead th {\n",
       "        text-align: right;\n",
       "    }\n",
       "</style>\n",
       "<table border=\"1\" class=\"dataframe\">\n",
       "  <thead>\n",
       "    <tr style=\"text-align: right;\">\n",
       "      <th></th>\n",
       "      <th>first_digits</th>\n",
       "      <th>patients</th>\n",
       "      <th>2020 events (mill)</th>\n",
       "      <th>2020 Patient count (mill)</th>\n",
       "      <th>first_digit</th>\n",
       "      <th>digits</th>\n",
       "      <th>Description</th>\n",
       "      <th>concept_desc</th>\n",
       "    </tr>\n",
       "  </thead>\n",
       "  <tbody>\n",
       "    <tr>\n",
       "      <th>0</th>\n",
       "      <td>246</td>\n",
       "      <td>5024913</td>\n",
       "      <td>16.97</td>\n",
       "      <td>5.02</td>\n",
       "      <td>2</td>\n",
       "      <td>3</td>\n",
       "      <td>O/E - blood pressure reading</td>\n",
       "      <td>Context-dependent categories</td>\n",
       "    </tr>\n",
       "    <tr>\n",
       "      <th>1</th>\n",
       "      <td>426</td>\n",
       "      <td>4217135</td>\n",
       "      <td>8.18</td>\n",
       "      <td>4.22</td>\n",
       "      <td>4</td>\n",
       "      <td>3</td>\n",
       "      <td>Red blood cell count</td>\n",
       "      <td>Laboratory procedures</td>\n",
       "    </tr>\n",
       "  </tbody>\n",
       "</table>\n",
       "</div>"
      ],
      "text/plain": [
       "  first_digits  patients  2020 events (mill)  2020 Patient count (mill)  \\\n",
       "0          246   5024913               16.97                       5.02   \n",
       "1          426   4217135                8.18                       4.22   \n",
       "\n",
       "  first_digit  digits                   Description  \\\n",
       "0           2       3  O/E - blood pressure reading   \n",
       "1           4       3          Red blood cell count   \n",
       "\n",
       "                   concept_desc  \n",
       "0  Context-dependent categories  \n",
       "1         Laboratory procedures  "
      ]
     },
     "execution_count": 12,
     "metadata": {},
     "output_type": "execute_result"
    }
   ],
   "source": [
    "top_l3 = process_df(df_l3, codes)\n",
    "top_l3 = join_concept_descriptions(top_l3, concepts, concepts2, concepts3)\n",
    "\n",
    "out = top_l3.drop([\"events\"], axis=1)\n",
    "\n",
    "out.head(2)"
   ]
  },
  {
   "cell_type": "markdown",
   "metadata": {},
   "source": [
    "## Rank codes starting with U, X or Y by frequency of appearance in 2020¶\n",
    "X and Y codes are not neatly subgrouped/hierarchied but contain lots of interesting activity"
   ]
  },
  {
   "cell_type": "code",
   "execution_count": 13,
   "metadata": {},
   "outputs": [],
   "source": [
    "sql = f'''select TOP 500\n",
    "e.CTV3Code AS first_digits, \n",
    "COUNT(Patient_ID) as events,\n",
    "COUNT(DISTINCT Patient_ID) as patients\n",
    "FROM CodedEvent e\n",
    "WHERE ConsultationDate IS NOT NULL \n",
    "AND CAST(LEFT(e.CTV3Code,1) AS VARCHAR) IN ('U', 'X', 'Y')\n",
    "AND ConsultationDate >= '20200101'\n",
    "AND ConsultationDate <= '{end_date}'\n",
    "GROUP BY e.CTV3Code\n",
    "HAVING COUNT(Patient_ID) > {threshold}\n",
    "ORDER BY events DESC\n",
    "'''\n",
    "\n",
    "with closing_connection(dbconn) as connection:\n",
    "    df_xy = pd.read_sql(sql, connection).sort_values(by=\"events\", ascending=False)"
   ]
  },
  {
   "cell_type": "code",
   "execution_count": 14,
   "metadata": {
    "lines_to_next_cell": 2
   },
   "outputs": [
    {
     "data": {
      "text/html": [
       "<div>\n",
       "<style scoped>\n",
       "    .dataframe tbody tr th:only-of-type {\n",
       "        vertical-align: middle;\n",
       "    }\n",
       "\n",
       "    .dataframe tbody tr th {\n",
       "        vertical-align: top;\n",
       "    }\n",
       "\n",
       "    .dataframe thead th {\n",
       "        text-align: right;\n",
       "    }\n",
       "</style>\n",
       "<table border=\"1\" class=\"dataframe\">\n",
       "  <thead>\n",
       "    <tr style=\"text-align: right;\">\n",
       "      <th></th>\n",
       "      <th>first_digits</th>\n",
       "      <th>patients</th>\n",
       "      <th>2020 events (mill)</th>\n",
       "      <th>2020 Patient count (mill)</th>\n",
       "      <th>first_digit</th>\n",
       "      <th>digits</th>\n",
       "      <th>Description</th>\n",
       "      <th>concept_desc</th>\n",
       "    </tr>\n",
       "  </thead>\n",
       "  <tbody>\n",
       "    <tr>\n",
       "      <th>0</th>\n",
       "      <td>Y237d</td>\n",
       "      <td>20218079</td>\n",
       "      <td>84.47</td>\n",
       "      <td>20.22</td>\n",
       "      <td>Y</td>\n",
       "      <td>5</td>\n",
       "      <td>Additional SCR dataset uploaded under COPI Reg...</td>\n",
       "      <td>Administration</td>\n",
       "    </tr>\n",
       "    <tr>\n",
       "      <th>1</th>\n",
       "      <td>XaMiI</td>\n",
       "      <td>7500366</td>\n",
       "      <td>26.40</td>\n",
       "      <td>7.50</td>\n",
       "      <td>X</td>\n",
       "      <td>5</td>\n",
       "      <td>Short message service text message sent to pat...</td>\n",
       "      <td>Administration</td>\n",
       "    </tr>\n",
       "  </tbody>\n",
       "</table>\n",
       "</div>"
      ],
      "text/plain": [
       "  first_digits  patients  2020 events (mill)  2020 Patient count (mill)  \\\n",
       "0        Y237d  20218079               84.47                      20.22   \n",
       "1        XaMiI   7500366               26.40                       7.50   \n",
       "\n",
       "  first_digit  digits                                        Description  \\\n",
       "0           Y       5  Additional SCR dataset uploaded under COPI Reg...   \n",
       "1           X       5  Short message service text message sent to pat...   \n",
       "\n",
       "     concept_desc  \n",
       "0  Administration  \n",
       "1  Administration  "
      ]
     },
     "execution_count": 14,
     "metadata": {},
     "output_type": "execute_result"
    }
   ],
   "source": [
    "top_xy = process_df(df_xy, codes)\n",
    "top_xy = join_concept_descriptions(top_xy, concepts, concepts2, concepts3)\n",
    "\n",
    "out = top_xy.drop([\"events\"], axis=1)\n",
    "\n",
    "out.head(2)"
   ]
  },
  {
   "cell_type": "markdown",
   "metadata": {},
   "source": [
    "## Create combined list of Level 3 codes and X,Y,U codes"
   ]
  },
  {
   "cell_type": "code",
   "execution_count": 20,
   "metadata": {},
   "outputs": [
    {
     "data": {
      "text/html": [
       "<div>\n",
       "<style scoped>\n",
       "    .dataframe tbody tr th:only-of-type {\n",
       "        vertical-align: middle;\n",
       "    }\n",
       "\n",
       "    .dataframe tbody tr th {\n",
       "        vertical-align: top;\n",
       "    }\n",
       "\n",
       "    .dataframe thead th {\n",
       "        text-align: right;\n",
       "    }\n",
       "</style>\n",
       "<table border=\"1\" class=\"dataframe\">\n",
       "  <thead>\n",
       "    <tr style=\"text-align: right;\">\n",
       "      <th></th>\n",
       "      <th>first_digits</th>\n",
       "      <th>patients</th>\n",
       "      <th>2020 events (mill)</th>\n",
       "      <th>2020 Patient count (mill)</th>\n",
       "      <th>first_digit</th>\n",
       "      <th>digits</th>\n",
       "      <th>Description</th>\n",
       "      <th>concept_desc</th>\n",
       "    </tr>\n",
       "  </thead>\n",
       "  <tbody>\n",
       "    <tr>\n",
       "      <th>0</th>\n",
       "      <td>Y237d</td>\n",
       "      <td>20218080</td>\n",
       "      <td>84.47</td>\n",
       "      <td>20.22</td>\n",
       "      <td>Y</td>\n",
       "      <td>5</td>\n",
       "      <td>Additional SCR dataset uploaded under COPI Reg...</td>\n",
       "      <td>Administration</td>\n",
       "    </tr>\n",
       "    <tr>\n",
       "      <th>1</th>\n",
       "      <td>XaMiI</td>\n",
       "      <td>7500370</td>\n",
       "      <td>26.40</td>\n",
       "      <td>7.50</td>\n",
       "      <td>X</td>\n",
       "      <td>5</td>\n",
       "      <td>Short message service text message sent to pat...</td>\n",
       "      <td>Administration</td>\n",
       "    </tr>\n",
       "    <tr>\n",
       "      <th>517</th>\n",
       "      <td>246</td>\n",
       "      <td>5024910</td>\n",
       "      <td>16.97</td>\n",
       "      <td>5.02</td>\n",
       "      <td>2</td>\n",
       "      <td>3</td>\n",
       "      <td>O/E - blood pressure reading</td>\n",
       "      <td>Context-dependent categories</td>\n",
       "    </tr>\n",
       "    <tr>\n",
       "      <th>2</th>\n",
       "      <td>XaIge</td>\n",
       "      <td>4208210</td>\n",
       "      <td>9.48</td>\n",
       "      <td>4.21</td>\n",
       "      <td>X</td>\n",
       "      <td>5</td>\n",
       "      <td>Telephone consultation</td>\n",
       "      <td>Administration</td>\n",
       "    </tr>\n",
       "    <tr>\n",
       "      <th>518</th>\n",
       "      <td>426</td>\n",
       "      <td>4217140</td>\n",
       "      <td>8.18</td>\n",
       "      <td>4.22</td>\n",
       "      <td>4</td>\n",
       "      <td>3</td>\n",
       "      <td>Red blood cell count</td>\n",
       "      <td>Laboratory procedures</td>\n",
       "    </tr>\n",
       "  </tbody>\n",
       "</table>\n",
       "</div>"
      ],
      "text/plain": [
       "    first_digits  patients  2020 events (mill)  2020 Patient count (mill)  \\\n",
       "0          Y237d  20218080               84.47                      20.22   \n",
       "1          XaMiI   7500370               26.40                       7.50   \n",
       "517          246   5024910               16.97                       5.02   \n",
       "2          XaIge   4208210                9.48                       4.21   \n",
       "518          426   4217140                8.18                       4.22   \n",
       "\n",
       "    first_digit  digits                                        Description  \\\n",
       "0             Y       5  Additional SCR dataset uploaded under COPI Reg...   \n",
       "1             X       5  Short message service text message sent to pat...   \n",
       "517           2       3                       O/E - blood pressure reading   \n",
       "2             X       5                             Telephone consultation   \n",
       "518           4       3                               Red blood cell count   \n",
       "\n",
       "                     concept_desc  \n",
       "0                  Administration  \n",
       "1                  Administration  \n",
       "517  Context-dependent categories  \n",
       "2                  Administration  \n",
       "518         Laboratory procedures  "
      ]
     },
     "execution_count": 20,
     "metadata": {},
     "output_type": "execute_result"
    }
   ],
   "source": [
    "combined_list = pd.concat([top_xy, top_l3], ignore_index=True).sort_values(by=\"2020 events (mill)\", ascending=False).head(500)\n",
    "out = combined_list.drop([\"events\"], axis=1)\n",
    "out[\"patients\"] = (10*(out[\"patients\"]/10).round(0)).astype(int)\n",
    "\n",
    "out.to_csv(os.path.join(\"..\",\"output\",\"combined_codelist.csv\"), index=False)\n",
    "out.head()"
   ]
  }
 ],
 "metadata": {
  "jupytext": {
   "cell_metadata_filter": "all",
   "encoding": "# -*- coding: utf-8 -*-",
   "notebook_metadata_filter": "all,-language_info",
   "text_representation": {
    "extension": ".py",
    "format_name": "light",
    "format_version": "1.5",
    "jupytext_version": "1.3.3"
   }
  },
  "kernelspec": {
   "display_name": "Python 3",
   "language": "python",
   "name": "python3"
  },
  "language_info": {
   "codemirror_mode": {
    "name": "ipython",
    "version": 3
   },
   "file_extension": ".py",
   "mimetype": "text/x-python",
   "name": "python",
   "nbconvert_exporter": "python",
   "pygments_lexer": "ipython3",
   "version": "3.8.1"
  }
 },
 "nbformat": 4,
 "nbformat_minor": 4
}
